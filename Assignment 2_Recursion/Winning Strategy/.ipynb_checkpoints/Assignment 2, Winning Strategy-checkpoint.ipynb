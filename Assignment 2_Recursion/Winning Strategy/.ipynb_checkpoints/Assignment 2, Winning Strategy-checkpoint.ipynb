{
 "cells": [
  {
   "cell_type": "markdown",
   "id": "million-squad",
   "metadata": {},
   "source": [
    "1b Fundamentals of Data Structures and Algorithms\n",
    "\n",
    "Assignment 2, Winning Strategy"
   ]
  },
  {
   "cell_type": "code",
   "execution_count": 2,
   "id": "listed-moment",
   "metadata": {},
   "outputs": [],
   "source": [
    "# n = input('Provide the starting state of the game, N:')\n",
    "\n",
    "def is_hot(n):  \n",
    "    if n < 2:\n",
    "        game_state = 'cold'\n",
    "        return game_state\n",
    "    \n",
    "    option_1 = is_hot(n-1)\n",
    "    option_2 = is_hot(n/2)\n",
    "    \n",
    "    if option_1 == 'hot' and option_2 == 'hot':\n",
    "        game_state = 'cold'\n",
    "        return game_state\n",
    "    else:\n",
    "        game_state = 'hot'\n",
    "        return game_state\n",
    "\n",
    "input_file = open(\"input.txt\", \"r\")\n",
    "output_file = open(\"output.txt\",\"w+\")\n",
    "# print(input_file.readlines())\n",
    "# print(input_file.readline())\n",
    "\n",
    "for line in input_file.readlines():\n",
    "    line_modified = line.rstrip('\\n')\n",
    "    output_file.write(is_hot(int(line_modified)))\n",
    "    output_file.write('\\n')\n",
    "    \n",
    "input_file.close()\n",
    "output_file.close()"
   ]
  },
  {
   "cell_type": "code",
   "execution_count": null,
   "id": "national-convention",
   "metadata": {},
   "outputs": [],
   "source": []
  }
 ],
 "metadata": {
  "kernelspec": {
   "display_name": "Python 3",
   "language": "python",
   "name": "python3"
  },
  "language_info": {
   "codemirror_mode": {
    "name": "ipython",
    "version": 3
   },
   "file_extension": ".py",
   "mimetype": "text/x-python",
   "name": "python",
   "nbconvert_exporter": "python",
   "pygments_lexer": "ipython3",
   "version": "3.8.2"
  }
 },
 "nbformat": 4,
 "nbformat_minor": 5
}
