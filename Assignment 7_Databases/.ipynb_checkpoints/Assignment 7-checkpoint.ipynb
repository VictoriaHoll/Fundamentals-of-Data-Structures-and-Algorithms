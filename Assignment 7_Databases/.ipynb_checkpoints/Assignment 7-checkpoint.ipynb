{
 "cells": [
  {
   "cell_type": "markdown",
   "id": "worth-cycle",
   "metadata": {},
   "source": [
    "1b Fundamentals of Data Structures and Algorithms\n",
    "\n",
    "Assignment 7, Databases"
   ]
  },
  {
   "cell_type": "code",
   "execution_count": 250,
   "id": "technological-mathematics",
   "metadata": {},
   "outputs": [],
   "source": [
    "import sqlite3\n",
    "\n",
    "# create a SQL connection to our SQLite database\n",
    "con = sqlite3.connect(\"Cookie.sqlite\")\n",
    "cur = con.cursor()"
   ]
  },
  {
   "cell_type": "code",
   "execution_count": 251,
   "id": "clean-characteristic",
   "metadata": {},
   "outputs": [],
   "source": [
    "# check table names to validate README list\n",
    "\n",
    "# cursor.execute(\"SELECT name FROM sqlite_master WHERE type='table';\")\n",
    "# print(cursor.fetchall())"
   ]
  },
  {
   "cell_type": "markdown",
   "id": "bronze-diabetes",
   "metadata": {},
   "source": [
    "1) What Publisher is located in GARDEN CITY? \n",
    "- Answer: DOUBLEDAY AND COMPANY INC."
   ]
  },
  {
   "cell_type": "code",
   "execution_count": 252,
   "id": "commercial-regard",
   "metadata": {},
   "outputs": [
    {
     "data": {
      "text/plain": [
       "[('DOUBLEDAY AND COMPANY INC.',)]"
      ]
     },
     "execution_count": 252,
     "metadata": {},
     "output_type": "execute_result"
    }
   ],
   "source": [
    "sql_command_1 = \"SELECT publisher FROM pub WHERE pcity = 'GARDEN CITY'\"\n",
    "\n",
    "cur.execute(sql_command_1)\n",
    "cur.fetchall()"
   ]
  },
  {
   "cell_type": "markdown",
   "id": "frequent-webmaster",
   "metadata": {},
   "source": [
    "2) How many books in the catalogue come from publishers in NEW YORK?\n",
    "- Answer: [(43,)]\n"
   ]
  },
  {
   "cell_type": "code",
   "execution_count": 253,
   "id": "dominican-webcam",
   "metadata": {},
   "outputs": [
    {
     "data": {
      "text/plain": [
       "[(43,)]"
      ]
     },
     "execution_count": 253,
     "metadata": {},
     "output_type": "execute_result"
    }
   ],
   "source": [
    "sql_command_2 = 'SELECT COUNT(*) FROM bib WHERE loc LIKE \"%NEW YORK%\"'\n",
    "cur.execute(sql_command_2)\n",
    "cur.fetchall()"
   ]
  },
  {
   "cell_type": "markdown",
   "id": "flush-warren",
   "metadata": {},
   "source": [
    "3) Find the average price of a book in the SOCIAL CHANGE subject category. \n",
    "- Answer: [(8.625,)]"
   ]
  },
  {
   "cell_type": "code",
   "execution_count": 254,
   "id": "occasional-baptist",
   "metadata": {},
   "outputs": [
    {
     "data": {
      "text/plain": [
       "[(8.625,)]"
      ]
     },
     "execution_count": 254,
     "metadata": {},
     "output_type": "execute_result"
    }
   ],
   "source": [
    "# first, join indx and sub tables on 'subcode' column\n",
    "# then, combine subsequent table to bib on 'accno' column\n",
    "\n",
    "sql_command_3 = \"SELECT AVG(price) FROM (WITH small_join AS (SELECT * FROM indx JOIN sub ON indx.subcode = sub.subcode) SELECT * FROM small_join JOIN bib ON small_join.accno = bib.accno) WHERE subject = 'SOCIAL CHANGE'\" \n",
    "cur.execute(sql_command_3)\n",
    "indx_sub_bib_3 = cur.fetchall()\n",
    "indx_sub_bib_3\n"
   ]
  },
  {
   "cell_type": "markdown",
   "id": "manufactured-disaster",
   "metadata": {},
   "source": [
    "4) How many books from SAN FRANCISCO publishers are about UNIVERSITIES AND COLLEGES? \n",
    "- Answer: [(2,)]"
   ]
  },
  {
   "cell_type": "code",
   "execution_count": 255,
   "id": "based-amber",
   "metadata": {},
   "outputs": [
    {
     "data": {
      "text/plain": [
       "[(2,)]"
      ]
     },
     "execution_count": 255,
     "metadata": {},
     "output_type": "execute_result"
    }
   ],
   "source": [
    "# first, join indx and sub tables on 'subcode' column\n",
    "# then, combine subsequent table to bib on 'accno' column\n",
    "\n",
    "sql_command_4 = \"SELECT COUNT(*) FROM (WITH small_join AS (SELECT * FROM indx JOIN sub ON indx.subcode = sub.subcode) SELECT * FROM small_join JOIN bib ON small_join.accno = bib.accno) WHERE subject = 'UNIVERSITIES AND COLLEGES' AND loc LIKE '%San Francisco%';\" \n",
    "cur.execute(sql_command_4)\n",
    "indx_sub_bib_4 = cur.fetchall()\n",
    "indx_sub_bib_4\n"
   ]
  },
  {
   "cell_type": "markdown",
   "id": "polyphonic-price",
   "metadata": {},
   "source": [
    "5) Books in which subject category have the highest price? \n",
    "- Answer: [('EDUCATION - PHILOSOPHY',), ('COMMUNICATION - ECONOMIC ASPECTS',),('COMMUNICATION POLICY - US',)]"
   ]
  },
  {
   "cell_type": "code",
   "execution_count": 256,
   "id": "alive-preserve",
   "metadata": {},
   "outputs": [
    {
     "data": {
      "text/plain": [
       "[('EDUCATION - PHILOSOPHY',),\n",
       " ('COMMUNICATION - ECONOMIC ASPECTS',),\n",
       " ('COMMUNICATION POLICY - US',)]"
      ]
     },
     "execution_count": 256,
     "metadata": {},
     "output_type": "execute_result"
    }
   ],
   "source": [
    "sql_command_5 = \"SELECT subject FROM (WITH small_join AS (SELECT * FROM indx JOIN sub ON indx.subcode = sub.subcode) SELECT * FROM small_join JOIN bib ON small_join.accno = bib.accno) WHERE price = (SELECT MAX(price) FROM bib)\" \n",
    "cur.execute(sql_command_5)\n",
    "indx_sub_bib_5 = cur.fetchall()\n",
    "indx_sub_bib_5"
   ]
  }
 ],
 "metadata": {
  "kernelspec": {
   "display_name": "Python 3",
   "language": "python",
   "name": "python3"
  },
  "language_info": {
   "codemirror_mode": {
    "name": "ipython",
    "version": 3
   },
   "file_extension": ".py",
   "mimetype": "text/x-python",
   "name": "python",
   "nbconvert_exporter": "python",
   "pygments_lexer": "ipython3",
   "version": "3.8.2"
  }
 },
 "nbformat": 4,
 "nbformat_minor": 5
}
