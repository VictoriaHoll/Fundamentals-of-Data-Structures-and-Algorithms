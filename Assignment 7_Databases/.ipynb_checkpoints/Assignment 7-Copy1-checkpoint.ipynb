{
 "cells": [
  {
   "cell_type": "markdown",
   "id": "worth-cycle",
   "metadata": {},
   "source": [
    "1b Fundamentals of Data Structures and Algorithms\n",
    "\n",
    "Assignment 7, Databases"
   ]
  },
  {
   "cell_type": "code",
   "execution_count": 250,
   "id": "technological-mathematics",
   "metadata": {},
   "outputs": [],
   "source": [
    "import sqlite3\n",
    "\n",
    "# create a SQL connection to our SQLite database\n",
    "con = sqlite3.connect(\"Cookie.sqlite\")\n",
    "cur = con.cursor()"
   ]
  },
  {
   "cell_type": "code",
   "execution_count": 251,
   "id": "outdoor-nancy",
   "metadata": {},
   "outputs": [],
   "source": [
    "# check table names to validate README list\n",
    "\n",
    "# cursor.execute(\"SELECT name FROM sqlite_master WHERE type='table';\")\n",
    "# print(cursor.fetchall())"
   ]
  },
  {
   "cell_type": "markdown",
   "id": "authorized-newcastle",
   "metadata": {},
   "source": [
    "1) What Publisher is located in GARDEN CITY? \n",
    "- Answer: DOUBLEDAY AND COMPANY INC."
   ]
  },
  {
   "cell_type": "code",
   "execution_count": 252,
   "id": "commercial-regard",
   "metadata": {},
   "outputs": [
    {
     "data": {
      "text/plain": [
       "[('DOUBLEDAY AND COMPANY INC.',)]"
      ]
     },
     "execution_count": 252,
     "metadata": {},
     "output_type": "execute_result"
    }
   ],
   "source": [
    "sql_command_1 = \"SELECT publisher FROM pub WHERE pcity = 'GARDEN CITY'\"\n",
    "\n",
    "cur.execute(sql_command_1)\n",
    "cur.fetchall()"
   ]
  },
  {
   "cell_type": "markdown",
   "id": "general-number",
   "metadata": {},
   "source": [
    "2) How many books in the catalogue come from publishers in NEW YORK?\n",
    "- Answer: [(43,)]\n"
   ]
  },
  {
   "cell_type": "code",
   "execution_count": 253,
   "id": "rubber-meditation",
   "metadata": {},
   "outputs": [
    {
     "data": {
      "text/plain": [
       "[(43,)]"
      ]
     },
     "execution_count": 253,
     "metadata": {},
     "output_type": "execute_result"
    }
   ],
   "source": [
    "sql_command_2 = 'SELECT COUNT(*) FROM bib WHERE loc LIKE \"%NEW YORK%\"'\n",
    "cur.execute(sql_command_2)\n",
    "cur.fetchall()"
   ]
  },
  {
   "cell_type": "markdown",
   "id": "dressed-uncertainty",
   "metadata": {},
   "source": [
    "3) Find the average price of a book in the SOCIAL CHANGE subject category. \n",
    "- Answer: [(8.625,)]"
   ]
  },
  {
   "cell_type": "code",
   "execution_count": 254,
   "id": "occasional-baptist",
   "metadata": {},
   "outputs": [
    {
     "data": {
      "text/plain": [
       "[(8.625,)]"
      ]
     },
     "execution_count": 254,
     "metadata": {},
     "output_type": "execute_result"
    }
   ],
   "source": [
    "# first, join indx and sub tables on 'subcode' column\n",
    "# then, combine subsequent table to bib on 'accno' column\n",
    "\n",
    "sql_command_3 = \"SELECT AVG(price) FROM (WITH small_join AS (SELECT * FROM indx JOIN sub ON indx.subcode = sub.subcode) SELECT * FROM small_join JOIN bib ON small_join.accno = bib.accno) WHERE subject = 'SOCIAL CHANGE'\" \n",
    "cur.execute(sql_command_3)\n",
    "indx_sub_bib_3 = cur.fetchall()\n",
    "indx_sub_bib_3\n"
   ]
  },
  {
   "cell_type": "markdown",
   "id": "marked-tunisia",
   "metadata": {},
   "source": [
    "4) How many books from SAN FRANCISCO publishers are about UNIVERSITIES AND COLLEGES? \n",
    "- Answer: [(2,)]"
   ]
  },
  {
   "cell_type": "code",
   "execution_count": 255,
   "id": "incredible-satellite",
   "metadata": {},
   "outputs": [
    {
     "data": {
      "text/plain": [
       "[(2,)]"
      ]
     },
     "execution_count": 255,
     "metadata": {},
     "output_type": "execute_result"
    }
   ],
   "source": [
    "# first, join indx and sub tables on 'subcode' column\n",
    "# then, combine subsequent table to bib on 'accno' column\n",
    "\n",
    "sql_command_4 = \"SELECT COUNT(*) FROM (WITH small_join AS (SELECT * FROM indx JOIN sub ON indx.subcode = sub.subcode) SELECT * FROM small_join JOIN bib ON small_join.accno = bib.accno) WHERE subject = 'UNIVERSITIES AND COLLEGES' AND loc LIKE '%San Francisco%';\" \n",
    "cur.execute(sql_command_4)\n",
    "indx_sub_bib_4 = cur.fetchall()\n",
    "indx_sub_bib_4\n"
   ]
  },
  {
   "cell_type": "markdown",
   "id": "individual-gathering",
   "metadata": {},
   "source": [
    "5) Books in which subject category have the highest price? \n",
    "- Answer: [('EDUCATION - PHILOSOPHY',), ('COMMUNICATION - ECONOMIC ASPECTS',),('COMMUNICATION POLICY - US',)]"
   ]
  },
  {
   "cell_type": "code",
   "execution_count": 256,
   "id": "executed-bernard",
   "metadata": {},
   "outputs": [
    {
     "data": {
      "text/plain": [
       "[('EDUCATION - PHILOSOPHY',),\n",
       " ('COMMUNICATION - ECONOMIC ASPECTS',),\n",
       " ('COMMUNICATION POLICY - US',)]"
      ]
     },
     "execution_count": 256,
     "metadata": {},
     "output_type": "execute_result"
    }
   ],
   "source": [
    "sql_command_5 = \"SELECT subject FROM (WITH small_join AS (SELECT * FROM indx JOIN sub ON indx.subcode = sub.subcode) SELECT * FROM small_join JOIN bib ON small_join.accno = bib.accno) WHERE price = (SELECT MAX(price) FROM bib)\" \n",
    "cur.execute(sql_command_5)\n",
    "indx_sub_bib_5 = cur.fetchall()\n",
    "indx_sub_bib_5"
   ]
  },
  {
   "cell_type": "markdown",
   "id": "aggregate-focus",
   "metadata": {},
   "source": [
    "6) Among books costing 15 US$ or more, which publisher ranks highest in terms of average book HEIGHT? \n",
    "- Answer: PLACE HERE"
   ]
  },
  {
   "cell_type": "code",
   "execution_count": 257,
   "id": "liquid-eagle",
   "metadata": {},
   "outputs": [],
   "source": [
    "# from data discovery, we know that bib.loc is a combination of cities with or without their respective states while pub.pcity are cities exclusively\n",
    "\n",
    "# sql = 'SELECT loc FROM bib'\n",
    "# cur.execute(sql)\n",
    "# cur.fetchall()\n",
    "\n",
    "# sql_2 = 'SELECT pcity FROM pub'\n",
    "# cur.execute(sql_2)\n",
    "# cur.fetchall()"
   ]
  },
  {
   "cell_type": "code",
   "execution_count": 258,
   "id": "coordinate-variance",
   "metadata": {},
   "outputs": [
    {
     "data": {
      "text/plain": [
       "['CHICAGO',\n",
       " 'PARIS',\n",
       " 'BOULDER',\n",
       " 'SAN FRANCISCO',\n",
       " 'GARDEN CITY',\n",
       " 'NEW YORK',\n",
       " 'NEW YORK',\n",
       " 'NEW YORK',\n",
       " 'SAN FRANCISCO',\n",
       " 'BOSTON',\n",
       " 'WASHINGTON',\n",
       " 'NEW YORK',\n",
       " 'NEW YORK',\n",
       " 'TORONTO',\n",
       " 'NEW YORK',\n",
       " 'CAMBRIDGE',\n",
       " 'CHICHESTER',\n",
       " 'CAMBRIDGE',\n",
       " 'ELMSFORD',\n",
       " 'LINCOLN',\n",
       " 'MONTCLAIR',\n",
       " 'OLD WESTBURY',\n",
       " 'NEW YORK',\n",
       " 'NEW ROCHELLE',\n",
       " 'NEW YORK',\n",
       " 'NEW YORK',\n",
       " 'READING',\n",
       " 'SAN MATEO',\n",
       " 'SAN MATEO',\n",
       " 'BETHLEHEM',\n",
       " 'SAN FRANCISCO',\n",
       " 'ILLINOIS',\n",
       " 'NEW YORK',\n",
       " 'WASHINGTON',\n",
       " 'CHICAGO',\n",
       " 'CAMBRIDGE',\n",
       " 'NEW YORK',\n",
       " 'BERKELEY',\n",
       " 'NEW YORK',\n",
       " 'BOSTON',\n",
       " 'PRINCETON',\n",
       " 'NEW YORK',\n",
       " 'NEW YORK',\n",
       " 'BERKELEY',\n",
       " 'NEW YORK',\n",
       " 'NEW YORK',\n",
       " 'NEW YORK',\n",
       " 'S.L.',\n",
       " 'NEW YORK',\n",
       " 'NEW YORK',\n",
       " 'BOSTON',\n",
       " 'SANTA MONICA',\n",
       " 'CAMBRIDGE',\n",
       " 'NEW YORK',\n",
       " 'NEW YORK',\n",
       " 'ROCHESTER',\n",
       " 'NEW YORK',\n",
       " 'CHICAGO',\n",
       " 'NEW YORK',\n",
       " 'SPRINGFIELD',\n",
       " 'SANTA MONICA',\n",
       " 'GARDEN CITY',\n",
       " 'NEW YORK',\n",
       " 'NEW YORK',\n",
       " 'NEW YORK',\n",
       " 'BERKELEY',\n",
       " 'NEW YORK',\n",
       " 'LONDON & BALTIMORE',\n",
       " 'NEW YORK',\n",
       " 'NEW YORK',\n",
       " 'MARYKNOLL',\n",
       " 'NEW YORK',\n",
       " 'NEW YORK',\n",
       " 'SAN FRANCISCO',\n",
       " 'NEW YORK',\n",
       " 'GREENWICH',\n",
       " 'BROOKLYN',\n",
       " 'BOSTON',\n",
       " 'MADISON',\n",
       " 'NEW YORK',\n",
       " 'WASHINGTON',\n",
       " 'WASHINGTON',\n",
       " 'PARIS',\n",
       " 'NEW YORK',\n",
       " 'LINCOLN',\n",
       " 'NEW ROCHELLE',\n",
       " 'WASHINGTON',\n",
       " 'CAMBRIDGE',\n",
       " 'NEW YORK',\n",
       " 'GARDEN CITY',\n",
       " 'LITTLETON',\n",
       " 'NEW YORK',\n",
       " 'ENGLEWOOD CLIFFS',\n",
       " 'NEW YORK',\n",
       " 'BERKELEY',\n",
       " 'ENGLEWOOD',\n",
       " 'CAMBRIDGE',\n",
       " 'NEW YORK',\n",
       " 'STANFORD',\n",
       " 'STANFORD',\n",
       " 'STANFORD',\n",
       " 'NEW YORK',\n",
       " 'AUSTIN',\n",
       " 'NEW YORK',\n",
       " 'BERKELEY',\n",
       " 'BERKELEY',\n",
       " 'S.L.',\n",
       " 'BERKELEY',\n",
       " 'BERKELEY',\n",
       " 'BERKELEY',\n",
       " 'BERKELEY',\n",
       " 'S.L.',\n",
       " 'BOSTON',\n",
       " 'CHICAGO',\n",
       " 'BERKELEY',\n",
       " 'OLYMPIA',\n",
       " 'OLYMPIA',\n",
       " 'NEW YORK',\n",
       " 'NEWBURY PARK',\n",
       " 'BOSTON',\n",
       " 'NEW YORK',\n",
       " 'NEW YORK']"
      ]
     },
     "execution_count": 258,
     "metadata": {},
     "output_type": "execute_result"
    }
   ],
   "source": [
    "# our next steps is to clean the bib.loc and pub.pcity columns so we can join them in a new table\n",
    "\n",
    "# remove extraneous values from bib.loc list\n",
    "\n",
    "bib_loc = 'SELECT loc FROM bib'\n",
    "cur.execute(bib_loc)\n",
    "bib_list = cur.fetchall()\n",
    "bib_list\n",
    "\n",
    "clean_col_bib = []\n",
    "for item in bib_list:\n",
    "    item = str(item)\n",
    "    item = item.split(',')\n",
    "    clean_item = item[0].replace('(','').replace('\\'', '').strip()\n",
    "    clean_col_bib.append(clean_item)\n",
    "clean_col_bib\n",
    "    \n",
    "# remove extraneous values from pub_city list\n",
    "\n",
    "# pub_city = 'SELECT pcity FROM pub'\n",
    "# cur.execute(pub_city)\n",
    "# pub_city_list = cur.fetchall()\n",
    "# pub_city_list\n",
    "\n",
    "# clean_col_pub = []\n",
    "# for item in pub_city_list:\n",
    "#     item = str(item)\n",
    "#     clean_item = item.replace('(','').replace('\\'', '').replace(',', '').replace(')', '').strip()\n",
    "#     clean_col_pub.append(clean_item)\n",
    "# # clean_col_pub"
   ]
  },
  {
   "cell_type": "code",
   "execution_count": 259,
   "id": "coated-frederick",
   "metadata": {},
   "outputs": [
    {
     "ename": "OperationalError",
     "evalue": "database is locked",
     "output_type": "error",
     "traceback": [
      "\u001b[0;31m---------------------------------------------------------------------------\u001b[0m",
      "\u001b[0;31mOperationalError\u001b[0m                          Traceback (most recent call last)",
      "\u001b[0;32m<ipython-input-259-1362c62e524e>\u001b[0m in \u001b[0;36m<module>\u001b[0;34m\u001b[0m\n\u001b[1;32m      4\u001b[0m \u001b[0;34m\u001b[0m\u001b[0m\n\u001b[1;32m      5\u001b[0m \u001b[0maddColumn_bib\u001b[0m \u001b[0;34m=\u001b[0m \u001b[0;34m\"ALTER TABLE bib ADD COLUMN bib_loc_clean text\"\u001b[0m\u001b[0;34m\u001b[0m\u001b[0;34m\u001b[0m\u001b[0m\n\u001b[0;32m----> 6\u001b[0;31m \u001b[0mcur\u001b[0m\u001b[0;34m.\u001b[0m\u001b[0mexecute\u001b[0m\u001b[0;34m(\u001b[0m\u001b[0maddColumn_bib\u001b[0m\u001b[0;34m)\u001b[0m\u001b[0;34m\u001b[0m\u001b[0;34m\u001b[0m\u001b[0m\n\u001b[0m\u001b[1;32m      7\u001b[0m \u001b[0mcur\u001b[0m\u001b[0;34m.\u001b[0m\u001b[0mfetchall\u001b[0m\u001b[0;34m(\u001b[0m\u001b[0;34m)\u001b[0m\u001b[0;34m\u001b[0m\u001b[0;34m\u001b[0m\u001b[0m\n\u001b[1;32m      8\u001b[0m \u001b[0;31m# cur.executemany(\"INSERT INTO bib (bib_loc_clean) VALUES (?)\",\u001b[0m\u001b[0;34m\u001b[0m\u001b[0;34m\u001b[0m\u001b[0;34m\u001b[0m\u001b[0m\n",
      "\u001b[0;31mOperationalError\u001b[0m: database is locked"
     ]
    }
   ],
   "source": [
    "# next, we want to reinsert bib_loc and pub_city lists in respective tables\n",
    "\n",
    "# Add a new column to bib table\n",
    "\n",
    "addColumn_bib = \"ALTER TABLE bib ADD COLUMN bib_loc_clean text\"\n",
    "cur.execute(addColumn_bib)\n",
    "cur.fetchall()\n",
    "# cur.executemany(\"INSERT INTO bib (bib_loc_clean) VALUES (?)\",\n",
    "#                 zip(clean_col_bib))\n",
    "# con.commit()\n",
    "# cur.execute(insert_bib)\n",
    "# bib_list_clean = cur.fetchall()\n",
    "\n",
    "# INSERT INTO mytable (myfirstcolumn) VALUES \n",
    "#         ('A'),('B'),('C'),('D'),\n",
    "#         ('A'),('B'),('C'),('D'),('E'),('F');"
   ]
  },
  {
   "cell_type": "code",
   "execution_count": null,
   "id": "acceptable-excellence",
   "metadata": {},
   "outputs": [],
   "source": [
    "# first, join indx and sub tables on 'subcode' column\n",
    "# then, combine subsequent table to bib on 'accno' column\n",
    "# finally, combin subsequent table to pub on 'loc' and 'pcity' columns"
   ]
  },
  {
   "cell_type": "code",
   "execution_count": null,
   "id": "abandoned-rough",
   "metadata": {},
   "outputs": [],
   "source": [
    "# # combine bib and pub tables \n",
    "# sql_command_6a = 'SELECT * FROM bib JOIN pub ON bib.loc = pub.pcity\n",
    "\n",
    "# # create table of books costing 15 US$ or more\n",
    "# sql_command_6b = 'SELECT title FROM bib WHERE price >= 15'\n",
    "\n",
    "\n",
    "# # # close the connection\n",
    "# # con.close()"
   ]
  }
 ],
 "metadata": {
  "kernelspec": {
   "display_name": "Python 3",
   "language": "python",
   "name": "python3"
  },
  "language_info": {
   "codemirror_mode": {
    "name": "ipython",
    "version": 3
   },
   "file_extension": ".py",
   "mimetype": "text/x-python",
   "name": "python",
   "nbconvert_exporter": "python",
   "pygments_lexer": "ipython3",
   "version": "3.8.2"
  }
 },
 "nbformat": 4,
 "nbformat_minor": 5
}
