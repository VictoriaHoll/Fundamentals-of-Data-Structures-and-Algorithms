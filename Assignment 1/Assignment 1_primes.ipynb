{
 "cells": [
  {
   "cell_type": "markdown",
   "id": "lasting-avatar",
   "metadata": {},
   "source": [
    "Fundamentals of Data Structures and Algorithms"
   ]
  },
  {
   "cell_type": "markdown",
   "id": "competent-guess",
   "metadata": {},
   "source": [
    "Unit 1\n",
    "Assignment 1 - Part 1\n",
    "\n",
    "Write a script to compute how many unique prime factors an integer has.  For example, 12 = 2 x 2 x 3, so has two unique prime factors, 2 and 3. Use your script to compute the number of unique prime factors of 1234567890."
   ]
  },
  {
   "cell_type": "code",
   "execution_count": 9,
   "id": "returning-archive",
   "metadata": {},
   "outputs": [
    {
     "name": "stdout",
     "output_type": "stream",
     "text": [
      "5\n"
     ]
    }
   ],
   "source": [
    "def unique_primes(number):\n",
    "    unique_list = {}\n",
    "    remainder = number\n",
    "    i = 3\n",
    "    while remainder > 1:\n",
    "        if remainder % 2 == 0: # for numbers that are powers of 2\n",
    "            unique_list[2] = 1\n",
    "            remainder = remainder / 2\n",
    "#             print(remainder)\n",
    "        else: # odd numbers enter while loop\n",
    "            while i > 0:\n",
    "                remainder_interum = remainder / i\n",
    "                if remainder_interum == 1:\n",
    "                    unique_list[i] = 1\n",
    "                    remainder = remainder_interum\n",
    "                    break \n",
    "                elif remainder_interum % 1 == 0: # if it is a whole number\n",
    "                    unique_list[i] = 1\n",
    "                    remainder = remainder_interum\n",
    "                    i = i\n",
    "                else:\n",
    "                    remainder = remainder\n",
    "                    i += 1 # increase iterator to get all possible prime numbers\n",
    "    num_prime_list = list(unique_list.keys()) # gives list of unique prime factors\n",
    "    num_prime_count = len(num_prime_list) # gives count of number of unique prime factors   \n",
    "    return num_prime_count\n",
    "\n",
    "test = unique_primes(1234567890)\n",
    "print(test)"
   ]
  },
  {
   "cell_type": "markdown",
   "id": "fixed-mills",
   "metadata": {},
   "source": [
    "Unit 1\n",
    "Assignment 1 - Part 2\n",
    "\n",
    "Write a script that prompts the user for their phone number, x. Then carry out the following steps:\n",
    " \n",
    "\n",
    "1. Compute x minus the sum of the digits of x. Call this result y. (hint: to find the sum of the digits of x, check to see what x//10 and x%10 give you)\n",
    "2. Compute the sum of the digits of y, and store the result back in y.\n",
    "3. Repeat step 2 until y has just one digit, then display it.\n",
    " \n",
    "\n",
    "What answer do you get?"
   ]
  },
  {
   "cell_type": "code",
   "execution_count": 4,
   "id": "tamil-transmission",
   "metadata": {},
   "outputs": [
    {
     "name": "stdout",
     "output_type": "stream",
     "text": [
      "Insert phone number here in the form X XXX XXX XXX:1234567890\n"
     ]
    },
    {
     "data": {
      "text/plain": [
       "9"
      ]
     },
     "execution_count": 4,
     "metadata": {},
     "output_type": "execute_result"
    }
   ],
   "source": [
    "x = input('Insert phone number here in the form X XXX XXX XXX:')\n",
    "x = int(x)\n",
    "\n",
    "# finding sum of digits. we know that a phone number goes up to the 1 million place, so we can detail our algorithm accordingly \n",
    "\n",
    "i = 9\n",
    "add_x = 0\n",
    "add_y = 0\n",
    "while i >= 0:\n",
    "    value = (x // 10**i) % 10\n",
    "    add_x = add_x + value\n",
    "    i -= 1\n",
    "y = x - add_x\n",
    "\n",
    "j = 9\n",
    "while y > 9: \n",
    "    while j >= 0:\n",
    "        value_y = (y // 10**j) % 10\n",
    "        add_y = add_y + value_y\n",
    "        j -= 1\n",
    "    y = add_y\n",
    "    j = 9\n",
    "    add_y = 0\n",
    "y"
   ]
  }
 ],
 "metadata": {
  "kernelspec": {
   "display_name": "Python 3",
   "language": "python",
   "name": "python3"
  },
  "language_info": {
   "codemirror_mode": {
    "name": "ipython",
    "version": 3
   },
   "file_extension": ".py",
   "mimetype": "text/x-python",
   "name": "python",
   "nbconvert_exporter": "python",
   "pygments_lexer": "ipython3",
   "version": "3.8.2"
  }
 },
 "nbformat": 4,
 "nbformat_minor": 5
}
