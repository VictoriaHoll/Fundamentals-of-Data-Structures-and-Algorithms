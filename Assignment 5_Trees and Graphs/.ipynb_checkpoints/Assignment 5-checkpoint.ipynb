{
 "cells": [
  {
   "cell_type": "markdown",
   "id": "fallen-valuation",
   "metadata": {},
   "source": [
    "1b Fundamentals of Data Structures and Algorithms\n",
    "\n",
    "Assignment 5"
   ]
  },
  {
   "cell_type": "markdown",
   "id": "ignored-rebound",
   "metadata": {},
   "source": [
    "1. Graph Analysis\n",
    "\n",
    "Write a script that can accept an adjacency matrix as input, and construct a node-based representation of a graph.  \n",
    "\n",
    "Next, write a method that takes two nodes as arguments, n1 and n2, and returns the number of nodes that are equidistant from n1 and n2.  These are the nodes for which the shortest paths to n1 and n2 have the same length.  \n",
    "\n",
    "Hint: run two breadth-first searches, one from n1 and one from n2."
   ]
  },
  {
   "cell_type": "code",
   "execution_count": 233,
   "id": "organic-century",
   "metadata": {},
   "outputs": [],
   "source": [
    "class GraphNode(object):\n",
    "    def __init__(self, value = None):\n",
    "        self.value = value\n",
    "        self.connections = []\n",
    "        \n",
    "    def add_connections(self, other):\n",
    "        if other not in self.connections:\n",
    "            self.connections.append(other)\n",
    "        if self not in other.connections:\n",
    "            other.connections.append(self)\n",
    "            \n",
    "    def get_connections(self):\n",
    "        return self.connections  \n",
    "\n",
    "def node_based(adj_matrix): \n",
    "    # the adjacent matrix is a square by definition, therefore row size = column size\n",
    "    matrix_nodes = adj_matrix.shape[0]\n",
    "    row_size = adj_matrix.shape[0]\n",
    "    column_size = adj_matrix.shape[1]\n",
    "    \n",
    "    # turn each element in adj_matrix to graph node if node exists and append node to new list: \"graph\"\n",
    "    graph = []\n",
    "    for x in range(0, matrix_nodes):\n",
    "        x = GraphNode()\n",
    "        graph.append(x)\n",
    "\n",
    "    row = 0\n",
    "    column = 0\n",
    "    while row < row_size:\n",
    "        while column < column_size:\n",
    "            if adj_matrix.iloc[row, column] == 1:\n",
    "                graph[row].add_connections(graph[column]) # connect graph nodes\n",
    "                column += 1\n",
    "            else:\n",
    "                column += 1\n",
    "        row += 1\n",
    "        column = 0          \n",
    "    return graph\n",
    "\n",
    "# creates list of next-generation nodes\n",
    "def generation(set_of_connections, neglect_list): # neglect_list is input of nodes already visited\n",
    "    nexgen = []\n",
    "    for child in set_of_connections:\n",
    "        nexgen += child.get_connections() # create list of all next-generation nodes\n",
    "    nexgen_as_set = set(nexgen)\n",
    "    neglect_list = set(neglect_list)\n",
    "    intersection = nexgen_as_set.difference(neglect_list) # find nodes that are in common between two lists\n",
    "    final_list = list(intersection) \n",
    "    final_list = [x for x in nexgen if x not in neglect_list]\n",
    "    return final_list # returns list of subsequent generation without parent nodes\n",
    "\n",
    "def compare_generations(gen_1, gen_2):\n",
    "    gen1_as_set = set(gen_1)\n",
    "    gen2_as_set = set(gen_2)\n",
    "    intersection = gen1_as_set.intersection(gen2_as_set) # find nodes that are in common between two lists\n",
    "    equi_nodes = list(intersection) \n",
    "    return equi_nodes\n",
    "    \n",
    "def breadth_traverse(n1, n2): # assuming n1 and n2 are already graph nodes\n",
    "    equi_nodes_final = []\n",
    "    gen_1 = n1.get_connections()\n",
    "    gen_2 = n2.get_connections()\n",
    "    \n",
    "    neglect_list = [n1, n2]\n",
    "    num_nodes = 1\n",
    "    counter = 0\n",
    "    while num_nodes > 0:\n",
    "        nodes = compare_generations(gen_1, gen_2) \n",
    "        num_nodes = len(nodes)\n",
    "        equi_nodes_final.append(num_nodes)\n",
    "        neglect_list += (gen_1 + gen_2)\n",
    "        gen_1 = generation(gen_1, neglect_list) # reassign variable to continue loop until either list is empty\n",
    "        gen_2 = generation(gen_2, neglect_list)\n",
    "        counter += 1\n",
    "    return sum(equi_nodes_final)\n",
    "    "
   ]
  },
  {
   "cell_type": "code",
   "execution_count": 234,
   "id": "actual-ebony",
   "metadata": {},
   "outputs": [],
   "source": [
    "import pandas as pd\n",
    "\n",
    "adj_matrix = pd.read_csv('adj.txt', sep = ' ', header = None) # import adj_matrix text file\n",
    "\n",
    "adj_matrix\n",
    "adj_matrix = adj_matrix.drop(columns = [25, 26]) # clean adj_matrix to remove NANs and excessive columns"
   ]
  },
  {
   "cell_type": "code",
   "execution_count": 235,
   "id": "manual-glenn",
   "metadata": {},
   "outputs": [],
   "source": [
    "final_graph = node_based(adj_matrix)\n",
    "\n",
    "assert(breadth_traverse(final_graph[0], final_graph[1]) == 11)\n",
    "assert(breadth_traverse(final_graph[0], final_graph[5]) == 12)\n",
    "assert(breadth_traverse(final_graph[1], final_graph[8]) == 13)"
   ]
  }
 ],
 "metadata": {
  "kernelspec": {
   "display_name": "Python 3",
   "language": "python",
   "name": "python3"
  },
  "language_info": {
   "codemirror_mode": {
    "name": "ipython",
    "version": 3
   },
   "file_extension": ".py",
   "mimetype": "text/x-python",
   "name": "python",
   "nbconvert_exporter": "python",
   "pygments_lexer": "ipython3",
   "version": "3.8.2"
  }
 },
 "nbformat": 4,
 "nbformat_minor": 5
}
