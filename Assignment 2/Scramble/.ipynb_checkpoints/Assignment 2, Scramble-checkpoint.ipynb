{
 "cells": [
  {
   "cell_type": "markdown",
   "id": "democratic-infrared",
   "metadata": {},
   "source": [
    "1b Fundamentals of Data Structures and Algorithms\n",
    "\n",
    "Assignment 2, Scramble"
   ]
  },
  {
   "cell_type": "code",
   "execution_count": 17,
   "id": "engaged-million",
   "metadata": {},
   "outputs": [],
   "source": [
    "def interleave(string1, string2):\n",
    "    new_string = ''\n",
    "    string1_length = len(string1)\n",
    "    i = 0\n",
    "    while i < string1_length:\n",
    "        new_string += string1[i]\n",
    "        new_string += string2[i]\n",
    "        i += 1\n",
    "    return new_string\n",
    "\n",
    "def even_harder(string):\n",
    "    # Single character string\n",
    "    if len(string) <= 2:\n",
    "        return string\n",
    "    \n",
    "    # Find out if string has length to the power of 2\n",
    "    total_length = len(string)\n",
    "    new_string = string \n",
    "    i = 0\n",
    "    while True:\n",
    "        if total_length == 2: \n",
    "            break\n",
    "        elif (total_length / 2) % 2 == 0: # Checks if half is even\n",
    "            total_length /= 2\n",
    "    \n",
    "    # If string is not to the power of 2, modify it with '.' until it is:\n",
    "        else:\n",
    "            new_string += '.'\n",
    "            total_length = len(new_string)\n",
    "    \n",
    "    # Once string is to the power of 2, split in half\n",
    "    S1 = new_string[0:len(new_string)//2]\n",
    "    S2 = new_string[len(new_string)//2:]\n",
    "    \n",
    "    # Interleave within each half\n",
    "    rec1 = even_harder(S1)\n",
    "    rec2 = even_harder(S2)\n",
    "    A1 = interleave(rec1, rec2)\n",
    "\n",
    "    # Return interleave of both halfs\n",
    "    return A1\n",
    "\n",
    "input_file = open(\"input.txt\", \"r\")\n",
    "output_file = open(\"output.txt\",\"w+\")\n",
    "# print(input_file.readlines())\n",
    "# print(input_file.readline())\n",
    "\n",
    "for line in input_file.readlines():\n",
    "    line_modified = line.rstrip('\\n')\n",
    "    output_file.write(even_harder(str(line_modified)))\n",
    "    output_file.write('\\n')\n",
    "    \n",
    "input_file.close()\n",
    "output_file.close()"
   ]
  },
  {
   "cell_type": "code",
   "execution_count": null,
   "id": "united-cattle",
   "metadata": {},
   "outputs": [],
   "source": []
  },
  {
   "cell_type": "code",
   "execution_count": null,
   "id": "separate-probe",
   "metadata": {},
   "outputs": [],
   "source": []
  }
 ],
 "metadata": {
  "kernelspec": {
   "display_name": "Python 3",
   "language": "python",
   "name": "python3"
  },
  "language_info": {
   "codemirror_mode": {
    "name": "ipython",
    "version": 3
   },
   "file_extension": ".py",
   "mimetype": "text/x-python",
   "name": "python",
   "nbconvert_exporter": "python",
   "pygments_lexer": "ipython3",
   "version": "3.8.2"
  }
 },
 "nbformat": 4,
 "nbformat_minor": 5
}
