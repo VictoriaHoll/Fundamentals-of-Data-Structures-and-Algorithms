{
 "cells": [
  {
   "cell_type": "markdown",
   "id": "hourly-happening",
   "metadata": {},
   "source": [
    "1b Fundamentals of Data Structures and Algorithms\n",
    "\n",
    "Assignment 6, A Simple Hash Table with Linear Probing"
   ]
  },
  {
   "cell_type": "code",
   "execution_count": 131,
   "id": "weird-bench",
   "metadata": {},
   "outputs": [],
   "source": [
    "class MyTable():\n",
    "    def __init__(self, table_size):\n",
    "        self.table_size = table_size\n",
    "        self.array = [None] * table_size\n",
    "        self.keys = [None] * table_size \n",
    "        self.values = [None] * table_size\n",
    "    \n",
    "    def hashcode(self, key):\n",
    "        house = []\n",
    "        for char in key:\n",
    "            house.append(ord(char))\n",
    "        return sum(house) % self.table_size\n",
    "\n",
    "    def __setitem__(self, key, value):\n",
    "        index = self.hashcode(key)\n",
    "        if self.array[index] == None:\n",
    "            self.array[index] = (key, value) # if True\n",
    "            self.keys[index] = key\n",
    "            self.values[index] = value\n",
    "            \n",
    "        elif key == self.array[index][0]:\n",
    "            # insert new key and value\n",
    "            self.array[index] = (key, value) \n",
    "            self.keys[index] = key\n",
    "            self.values[index] = value\n",
    "            \n",
    "        else: # linear probing\n",
    "            i = 1\n",
    "            while index + i <= self.table_size:\n",
    "                if index + i == self.table_size:\n",
    "                    index = 0\n",
    "                    i = 0\n",
    "                elif self.array[index + i] == None or self.array[index + i][0] == key: \n",
    "                    self.array[index + i] = (key, value)\n",
    "                    self.keys[index + i] = key\n",
    "                    self.values[index + i] = value\n",
    "                    break\n",
    "                else:\n",
    "                    i += 1   \n",
    "\n",
    "    def __getitem__(self, key): # get the value that corresponds to the given key in the table.\n",
    "        index = self.hashcode(key)\n",
    "        \n",
    "        if self.array[index] == None:\n",
    "            return 'Key not in table.'\n",
    "        elif key == self.array[index][0]:\n",
    "            return self.array[index][1]\n",
    "        elif key not in self.keys:\n",
    "            return 'Key not in table.'\n",
    "        else:\n",
    "            i = 1\n",
    "            while index + i <= self.table_size:\n",
    "                if index + i == self.table_size:\n",
    "                    index = 0\n",
    "                    i = 0\n",
    "                elif key == self.array[index + i][0]:\n",
    "                    return self.array[index + i][1]\n",
    "                else:\n",
    "                    i += 1\n",
    "                    \n",
    "    def __delitem__(self, key): # remove the given key and its corresponding value from the table.\n",
    "        index = self.hashcode(key)\n",
    "        if key == self.array[index][0]:\n",
    "            self.array[index] = 'deleted' # replace key and value with the special string “deleted”\n",
    "            self.keys[index] = 'deleted'\n",
    "            self.values[index] = 'deleted'\n",
    "        else:\n",
    "            i = 1\n",
    "            while index + i <= self.table_size:\n",
    "                if index + i == self.table_size:\n",
    "                    index = 0\n",
    "                    i = 0\n",
    "                elif key in self.array[index + i]:\n",
    "                    self.array[index + i] = 'deleted' # replace key and value with the special string “deleted”\n",
    "                    self.keys[index + i] = 'deleted'\n",
    "                    self.values[index + i] = 'deleted'\n",
    "                    break\n",
    "                else:\n",
    "                    i += 1   \n",
    "        return self.array[index]"
   ]
  },
  {
   "cell_type": "code",
   "execution_count": 132,
   "id": "ongoing-gossip",
   "metadata": {},
   "outputs": [],
   "source": [
    "m = MyTable(5)"
   ]
  },
  {
   "cell_type": "code",
   "execution_count": 133,
   "id": "cardiac-degree",
   "metadata": {},
   "outputs": [
    {
     "name": "stdout",
     "output_type": "stream",
     "text": [
      "Current keys are in m: [None, None, 'a', 'f', 'k']\n"
     ]
    }
   ],
   "source": [
    "m[\"a\"] = \"apple\"\n",
    "m[\"f\"] = \"butter\"\n",
    "m[\"k\"] = \"yummy\"\n",
    "\n",
    "print(\"Current keys are in m:\", m.keys)"
   ]
  },
  {
   "cell_type": "code",
   "execution_count": 134,
   "id": "greek-roots",
   "metadata": {},
   "outputs": [
    {
     "name": "stdout",
     "output_type": "stream",
     "text": [
      "m[\"p\"]: Key not in table.\n"
     ]
    }
   ],
   "source": [
    "print('m[\"p\"]:', m[\"p\"])"
   ]
  },
  {
   "cell_type": "code",
   "execution_count": 135,
   "id": "sitting-cassette",
   "metadata": {},
   "outputs": [
    {
     "name": "stdout",
     "output_type": "stream",
     "text": [
      "m[\"k\"]: yummy\n",
      "m[\"k\"]: yummy\n",
      "Current keys in m: [None, None, 'a', 'deleted', 'k']\n"
     ]
    }
   ],
   "source": [
    "# we can access 'k'\n",
    "\n",
    "print('m[\"k\"]:', m[\"k\"])\n",
    "\n",
    "# even if we remove 'f'\n",
    "del m[\"f\"]\n",
    "print('m[\"k\"]:', m[\"k\"])\n",
    "print(\"Current keys in m:\", m.keys)\n"
   ]
  },
  {
   "cell_type": "code",
   "execution_count": 136,
   "id": "normal-significance",
   "metadata": {},
   "outputs": [
    {
     "name": "stdout",
     "output_type": "stream",
     "text": [
      "Current keys in m: [None, None, 'a', 'deleted', 'k']\n",
      "Current values in m: [None, None, 'apple', 'deleted', 'newstuff']\n"
     ]
    }
   ],
   "source": [
    "# even after removing \"f\" we can overwrite \"k\"\n",
    "\n",
    "m[\"k\"] = \"newstuff\"\n",
    "print(\"Current keys in m:\", m.keys)\n",
    "print(\"Current values in m:\", m.values)"
   ]
  }
 ],
 "metadata": {
  "kernelspec": {
   "display_name": "Python 3",
   "language": "python",
   "name": "python3"
  },
  "language_info": {
   "codemirror_mode": {
    "name": "ipython",
    "version": 3
   },
   "file_extension": ".py",
   "mimetype": "text/x-python",
   "name": "python",
   "nbconvert_exporter": "python",
   "pygments_lexer": "ipython3",
   "version": "3.8.2"
  }
 },
 "nbformat": 4,
 "nbformat_minor": 5
}
