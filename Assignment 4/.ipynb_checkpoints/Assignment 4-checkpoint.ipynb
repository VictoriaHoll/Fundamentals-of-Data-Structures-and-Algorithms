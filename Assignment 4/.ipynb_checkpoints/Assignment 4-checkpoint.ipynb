{
 "cells": [
  {
   "cell_type": "markdown",
   "id": "pleased-tuesday",
   "metadata": {},
   "source": [
    "1b Fundamentals of Data Structures and Algorithms\n",
    "\n",
    "Assignment 4, Postfix Expressions"
   ]
  },
  {
   "cell_type": "markdown",
   "id": "realistic-cotton",
   "metadata": {},
   "source": [
    "Postfix notation is an alternate format for writing mathematical expressions.  If op is an operator, and exp1 and exp2 are expressions, instead of writing exp1 op exp2, we would write exp1 exp2 op.  Instead of writing 2 + 3, we would write 2 3 +.  \n",
    "\n",
    "An interesting feature of this notation is that no parentheses are needed to communicate the order of operations, because there is only one order consistent with each expression.  As an example, the mathematical expression ((5 + 2) * (8 - 3)) / 4 would be written 5 2 + 8 3 - * 4 / in postfix notation.\n",
    "\n",
    "Write a script to evaluate postfix expressions involving numbers and the four operators +,-,*, and /.  Your solution should be based on a single stack (either array-based or link-based) and you should not use recursive function calls.\n",
    "\n",
    "You may want to import the operator module, which provides the following methods corresponding to basic mathematical operators: operator.add, operator.sub, operator.mul, operator.truediv.  For example, if you set f equal to operator.add, you can find the sum of exp1 and exp2 using f(exp1, exp2)."
   ]
  },
  {
   "cell_type": "code",
   "execution_count": 25,
   "id": "architectural-moment",
   "metadata": {},
   "outputs": [
    {
     "data": {
      "text/plain": [
       "[8.75]"
      ]
     },
     "execution_count": 25,
     "metadata": {},
     "output_type": "execute_result"
    }
   ],
   "source": [
    "class stack(object):\n",
    "    def __init__(self):\n",
    "        self._data = []\n",
    "        \n",
    "    def push(self, e):\n",
    "        self._data.append(e) \n",
    "    \n",
    "    def pop(self):\n",
    "        if len(self._data) == 0:\n",
    "            raise Exception (\"Stack is Empty\")\n",
    "        return self._data.pop(-1) \n",
    "    \n",
    "    def __repr__(self):\n",
    "        return '%s' % (self._data)\n",
    "    \n",
    "    def __str__(self):\n",
    "        return str(self._data)\n",
    "    \n",
    "def postscript_reader(postscript_input):\n",
    "    length = len(postscript_input)\n",
    "    new_stack = stack()\n",
    "    i = 0\n",
    "    while i < length:\n",
    "        front = postscript_input.pop(0) # list attribute .pop() to get first value and remove it from list\n",
    "        if type(front) == int: # if value is an integer\n",
    "            new_stack.push(front)\n",
    "            i += 1\n",
    "        elif front == \"+\":\n",
    "            A1 = new_stack.pop()\n",
    "            A2 = new_stack.pop()\n",
    "            new_item = A2 + A1\n",
    "            new_stack.push(new_item)\n",
    "            i += 1\n",
    "        elif front == \"-\":\n",
    "            A1 = new_stack.pop()\n",
    "            A2 = new_stack.pop()\n",
    "            new_item = A2 - A1\n",
    "            new_stack.push(new_item)\n",
    "            i += 1\n",
    "        elif front == \"*\":\n",
    "            A1 = new_stack.pop()\n",
    "            A2 = new_stack.pop()\n",
    "            new_item = A2 * A1\n",
    "            new_stack.push(new_item)\n",
    "            i += 1\n",
    "        elif front == \"/\":\n",
    "            A1 = new_stack.pop()\n",
    "            A2 = new_stack.pop()\n",
    "            new_item = A2 / A1\n",
    "            new_stack.push(new_item)\n",
    "            i += 1\n",
    "    return new_stack\n",
    "\n",
    "def input_convert(input_string):\n",
    "    input_string2 = input_string.split(' ')\n",
    "    input_string3 = []\n",
    "    for item in input_string2:\n",
    "        if item == \"+\" or item == \"-\" or item == \"/\" or item == \"*\":\n",
    "            input_string3.append(item)\n",
    "        else:\n",
    "            item = int(item)\n",
    "            input_string3.append(item)\n",
    "    return input_string3"
   ]
  },
  {
   "cell_type": "code",
   "execution_count": 28,
   "id": "honest-verse",
   "metadata": {},
   "outputs": [
    {
     "name": "stdout",
     "output_type": "stream",
     "text": [
      "[8.75] [-9.75] [90.30000000000001]\n"
     ]
    }
   ],
   "source": [
    "input_one = input_convert('5 2 + 8 3 - * 4 /')\n",
    "input_two = input_convert('4 2 8 / 5 2 + 2 * - +')\n",
    "input_three = input_convert('2 2 8 4 5 / 6 * * 3 4 / 5 * + + 5 - 2 * 10 + +')\n",
    "\n",
    "one = postscript_reader(input_one)  # answer is 8.75\n",
    "two = postscript_reader(input_two) # answer is -9.75\n",
    "three = postscript_reader(input_three) # answer is 90.3\n",
    "\n",
    "print(one, two, three)"
   ]
  }
 ],
 "metadata": {
  "kernelspec": {
   "display_name": "Python 3",
   "language": "python",
   "name": "python3"
  },
  "language_info": {
   "codemirror_mode": {
    "name": "ipython",
    "version": 3
   },
   "file_extension": ".py",
   "mimetype": "text/x-python",
   "name": "python",
   "nbconvert_exporter": "python",
   "pygments_lexer": "ipython3",
   "version": "3.8.2"
  }
 },
 "nbformat": 4,
 "nbformat_minor": 5
}
